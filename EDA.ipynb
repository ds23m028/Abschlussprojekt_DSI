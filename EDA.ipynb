{
 "cells": [
  {
   "cell_type": "code",
   "execution_count": 1,
   "metadata": {},
   "outputs": [
    {
     "data": {
      "text/plain": [
       "(   NUTS  DISTRICT_CODE  SUB_DISTRICT_CODE  REF_YEAR  REF_DATE  INC_TOT_VALUE  \\\n",
       " 0  AT13          90000              90000      2002  20021231         18.217   \n",
       " 1  AT13          90100              90100      2002  20021231         25.463   \n",
       " 2  AT13          90200              90200      2002  20021231         16.439   \n",
       " 3  AT13          90300              90300      2002  20021231         18.701   \n",
       " 4  AT13          90400              90400      2002  20021231         20.325   \n",
       " \n",
       "    INC_MAL_VALUE  INC_FEM_VALUE  Unnamed: 8  Unnamed: 9  ...  Unnamed: 11  \\\n",
       " 0         20.709         15.424         NaN         NaN  ...          NaN   \n",
       " 1         31.961         18.536         NaN         NaN  ...          NaN   \n",
       " 2         18.301         14.282         NaN         NaN  ...          NaN   \n",
       " 3         21.444         15.804         NaN         NaN  ...          NaN   \n",
       " 4         23.641         16.876         NaN         NaN  ...          NaN   \n",
       " \n",
       "    Unnamed: 12  Unnamed: 13  Unnamed: 14  Unnamed: 15  Unnamed: 16  \\\n",
       " 0          NaN          NaN          NaN          NaN          NaN   \n",
       " 1          NaN          NaN          NaN          NaN          NaN   \n",
       " 2          NaN          NaN          NaN          NaN          NaN   \n",
       " 3          NaN          NaN          NaN          NaN          NaN   \n",
       " 4          NaN          NaN          NaN          NaN          NaN   \n",
       " \n",
       "    Unnamed: 17  Unnamed: 18  Unnamed: 19  Unnamed: 20  \n",
       " 0          NaN          NaN          NaN          NaN  \n",
       " 1          NaN          NaN          NaN          NaN  \n",
       " 2          NaN          NaN          NaN          NaN  \n",
       " 3          NaN          NaN          NaN          NaN  \n",
       " 4          NaN          NaN          NaN          NaN  \n",
       " \n",
       " [5 rows x 21 columns],\n",
       "    NUTS  DISTRICT_CODE  SUB_DISTRICT_CODE  REF_YEAR  REF_DATE  SEX  BIR\n",
       " 0  AT13          90100              90100      2002      2002    1   58\n",
       " 1  AT13          90100              90100      2002      2002    2   72\n",
       " 2  AT13          90200              90200      2002      2002    1  490\n",
       " 3  AT13          90200              90200      2002      2002    2  491\n",
       " 4  AT13          90300              90300      2002      2002    1  370)"
      ]
     },
     "execution_count": 1,
     "metadata": {},
     "output_type": "execute_result"
    }
   ],
   "source": [
    "import pandas as pd\n",
    "import csv\n",
    "import os\n",
    "\n",
    "# Laden der bereitgestellten CSV-Dateien\n",
    "einkommen = '/workspaces/Abschlussprojekt_DSI/data/vie-bez-biz-ecn-inc-sex-2002f.csv'\n",
    "geburten = '/workspaces/Abschlussprojekt_DSI/data/vie-bez-pop-sex-bir-2002f.csv'\n",
    "\n",
    "# Korrektes Einlesen der CSV-Dateien mit Semikolon als Trennzeichen\n",
    "data1 = pd.read_csv(einkommen, delimiter=';', skiprows=[0])\n",
    "data2 = pd.read_csv(geburten, delimiter=';', skiprows=[0])\n",
    "\n",
    "# Anzeigen der ersten paar Zeilen jeder Datei zur Überprüfung der korrekten Struktur\n",
    "data1_head_formatted = data1.head()\n",
    "data2_head_formatted = data2.head()\n",
    "\n",
    "data1_head_formatted, data2_head_formatted\n",
    "\n"
   ]
  },
  {
   "cell_type": "code",
   "execution_count": 2,
   "metadata": {},
   "outputs": [
    {
     "data": {
      "text/plain": [
       "((5, 21), (5, 7))"
      ]
     },
     "execution_count": 2,
     "metadata": {},
     "output_type": "execute_result"
    }
   ],
   "source": [
    "data1_head_formatted.shape, data2_head_formatted.shape"
   ]
  },
  {
   "cell_type": "code",
   "execution_count": 3,
   "metadata": {},
   "outputs": [
    {
     "data": {
      "text/plain": [
       "(Index(['NUTS', 'DISTRICT_CODE', 'SUB_DISTRICT_CODE', 'REF_YEAR', 'REF_DATE',\n",
       "        'INC_TOT_VALUE', 'INC_MAL_VALUE', 'INC_FEM_VALUE', 'Unnamed: 8',\n",
       "        'Unnamed: 9', 'Unnamed: 10', 'Unnamed: 11', 'Unnamed: 12',\n",
       "        'Unnamed: 13', 'Unnamed: 14', 'Unnamed: 15', 'Unnamed: 16',\n",
       "        'Unnamed: 17', 'Unnamed: 18', 'Unnamed: 19', 'Unnamed: 20'],\n",
       "       dtype='object'),\n",
       " Index(['NUTS', 'DISTRICT_CODE', 'SUB_DISTRICT_CODE', 'REF_YEAR', 'REF_DATE',\n",
       "        'SEX', 'BIR'],\n",
       "       dtype='object'))"
      ]
     },
     "execution_count": 3,
     "metadata": {},
     "output_type": "execute_result"
    }
   ],
   "source": [
    "data1_head_formatted.columns, data2_head_formatted.columns"
   ]
  },
  {
   "cell_type": "code",
   "execution_count": 4,
   "metadata": {},
   "outputs": [
    {
     "name": "stdout",
     "output_type": "stream",
     "text": [
      "<class 'pandas.core.frame.DataFrame'>\n",
      "RangeIndex: 5 entries, 0 to 4\n",
      "Data columns (total 21 columns):\n",
      " #   Column             Non-Null Count  Dtype  \n",
      "---  ------             --------------  -----  \n",
      " 0   NUTS               5 non-null      object \n",
      " 1   DISTRICT_CODE      5 non-null      int64  \n",
      " 2   SUB_DISTRICT_CODE  5 non-null      int64  \n",
      " 3   REF_YEAR           5 non-null      int64  \n",
      " 4   REF_DATE           5 non-null      int64  \n",
      " 5   INC_TOT_VALUE      5 non-null      float64\n",
      " 6   INC_MAL_VALUE      5 non-null      float64\n",
      " 7   INC_FEM_VALUE      5 non-null      float64\n",
      " 8   Unnamed: 8         0 non-null      float64\n",
      " 9   Unnamed: 9         0 non-null      float64\n",
      " 10  Unnamed: 10        0 non-null      float64\n",
      " 11  Unnamed: 11        0 non-null      float64\n",
      " 12  Unnamed: 12        0 non-null      float64\n",
      " 13  Unnamed: 13        0 non-null      float64\n",
      " 14  Unnamed: 14        0 non-null      float64\n",
      " 15  Unnamed: 15        0 non-null      float64\n",
      " 16  Unnamed: 16        0 non-null      float64\n",
      " 17  Unnamed: 17        0 non-null      float64\n",
      " 18  Unnamed: 18        0 non-null      float64\n",
      " 19  Unnamed: 19        0 non-null      float64\n",
      " 20  Unnamed: 20        0 non-null      float64\n",
      "dtypes: float64(16), int64(4), object(1)\n",
      "memory usage: 968.0+ bytes\n",
      "<class 'pandas.core.frame.DataFrame'>\n",
      "RangeIndex: 5 entries, 0 to 4\n",
      "Data columns (total 7 columns):\n",
      " #   Column             Non-Null Count  Dtype \n",
      "---  ------             --------------  ----- \n",
      " 0   NUTS               5 non-null      object\n",
      " 1   DISTRICT_CODE      5 non-null      int64 \n",
      " 2   SUB_DISTRICT_CODE  5 non-null      int64 \n",
      " 3   REF_YEAR           5 non-null      int64 \n",
      " 4   REF_DATE           5 non-null      int64 \n",
      " 5   SEX                5 non-null      int64 \n",
      " 6   BIR                5 non-null      int64 \n",
      "dtypes: int64(6), object(1)\n",
      "memory usage: 408.0+ bytes\n"
     ]
    },
    {
     "data": {
      "text/plain": [
       "(None, None)"
      ]
     },
     "execution_count": 4,
     "metadata": {},
     "output_type": "execute_result"
    }
   ],
   "source": [
    "data1_head_formatted.info(), data2_head_formatted.info()"
   ]
  },
  {
   "cell_type": "code",
   "execution_count": 5,
   "metadata": {},
   "outputs": [
    {
     "data": {
      "text/plain": [
       "';'"
      ]
     },
     "execution_count": 5,
     "metadata": {},
     "output_type": "execute_result"
    }
   ],
   "source": [
    "# Delimiter of file\n",
    "def find_delimiter(filename):\n",
    "    sniffer = csv.Sniffer()\n",
    "    with open(filename) as fp:\n",
    "        delimiter = sniffer.sniff(fp.read(5000)).delimiter\n",
    "    return delimiter\n",
    "\n",
    "find_delimiter('/workspaces/Abschlussprojekt_DSI/data/vie-bez-biz-ecn-inc-sex-2002f.csv')\n",
    "find_delimiter('/workspaces/Abschlussprojekt_DSI/data/vie-bez-pop-sex-bir-2002f.csv')"
   ]
  },
  {
   "cell_type": "code",
   "execution_count": 14,
   "metadata": {},
   "outputs": [
    {
     "data": {
      "text/plain": [
       "(   DISTRICT_CODE  REF_YEAR  INC_TOT_VALUE  INC_MAL_VALUE  INC_FEM_VALUE\n",
       " 0          90000      2002         18.217         20.709         15.424\n",
       " 1          90100      2002         25.463         31.961         18.536\n",
       " 2          90200      2002         16.439         18.301         14.282\n",
       " 3          90300      2002         18.701         21.444         15.804\n",
       " 4          90400      2002         20.325         23.641         16.876,\n",
       "    DISTRICT_CODE  REF_YEAR  BIR\n",
       " 0          90100      2002   58\n",
       " 1          90100      2002   72\n",
       " 2          90200      2002  490\n",
       " 3          90200      2002  491\n",
       " 4          90300      2002  370)"
      ]
     },
     "execution_count": 14,
     "metadata": {},
     "output_type": "execute_result"
    }
   ],
   "source": [
    "# Bereinigen der Daten: Entfernen unnötiger Spalten\n",
    "\n",
    "# Bereinigen der Einkommensdaten\n",
    "data1_clean = data1[['DISTRICT_CODE', 'REF_YEAR', 'INC_TOT_VALUE', 'INC_MAL_VALUE', 'INC_FEM_VALUE']]\n",
    "\n",
    "# Bereinigen der Geburtsdaten\n",
    "data2_clean = data2[['DISTRICT_CODE', 'REF_YEAR', 'BIR']]\n",
    "\n",
    "\n",
    "# Anzeigen der bereinigten\n",
    "data1_clean_head = data1_clean.head()\n",
    "data2_clean_head = data2_clean.head()\n",
    "\n",
    "data1_clean_head, data2_clean_head\n"
   ]
  },
  {
   "cell_type": "markdown",
   "metadata": {},
   "source": [
    "#### Durchschnittlicher Jahresnettobezug nach Geschlecht (in Euro pro ArbeitnehmerIn) seit 2002 (Data1):\n",
    "\n",
    "* Enthält Spalten für Bezirkscode (DISTRICT_CODE), Jahr (REF_YEAR), durchschnittlichen Nettobezug insgesamt (INC_TOT_VALUE), für Männer (INC_MAL_VALUE) und Frauen (INC_FEM_VALUE).\n",
    "\n",
    "#### Lebendgeburten in Wien seit 2002 (Data2):\n",
    "\n",
    "* Enthält Spalten für Bezirkscode (DISTRICT_CODE), Jahr (REF_YEAR), Geschlecht des Kindes (SEX) und Anzahl der Geburten (BIR).\n",
    "* Unnötige Zeilen wurden ebenfalls entfernt."
   ]
  },
  {
   "cell_type": "code",
   "execution_count": 19,
   "metadata": {},
   "outputs": [
    {
     "data": {
      "text/plain": [
       "(     DISTRICT_CODE  REF_YEAR  INC_TOT_VALUE  INC_MAL_VALUE  INC_FEM_VALUE\n",
       " 0            90000      2002         18.217         20.709         15.424\n",
       " 1            90100      2002         25.463         31.961         18.536\n",
       " 2            90200      2002         16.439         18.301         14.282\n",
       " 3            90300      2002         18.701         21.444         15.804\n",
       " 4            90400      2002         20.325         23.641         16.876\n",
       " ..             ...       ...            ...            ...            ...\n",
       " 475          91900      2021         29.903         34.540         25.235\n",
       " 476          92000      2021         21.201         22.241         19.916\n",
       " 477          92100      2021         24.381         26.587         21.926\n",
       " 478          92200      2021         26.722         29.850         23.454\n",
       " 479          92300      2021         27.268         30.581         23.748\n",
       " \n",
       " [480 rows x 5 columns],\n",
       "      DISTRICT_CODE  REF_YEAR   BIR\n",
       " 0            90100      2002   130\n",
       " 1            90100      2003   168\n",
       " 2            90100      2004   145\n",
       " 3            90100      2005   127\n",
       " 4            90100      2006   149\n",
       " ..             ...       ...   ...\n",
       " 478          92300      2018  1058\n",
       " 479          92300      2019  1111\n",
       " 480          92300      2020  1140\n",
       " 481          92300      2021  1186\n",
       " 482          92300      2022  1182\n",
       " \n",
       " [483 rows x 3 columns])"
      ]
     },
     "execution_count": 19,
     "metadata": {},
     "output_type": "execute_result"
    }
   ],
   "source": [
    "data2_grouped = data2_clean.groupby(['DISTRICT_CODE', 'REF_YEAR']).sum().reset_index()\n",
    "\n",
    "\n",
    "data1_clean, data2_grouped"
   ]
  },
  {
   "cell_type": "code",
   "execution_count": 20,
   "metadata": {},
   "outputs": [
    {
     "data": {
      "text/html": [
       "<div>\n",
       "<style scoped>\n",
       "    .dataframe tbody tr th:only-of-type {\n",
       "        vertical-align: middle;\n",
       "    }\n",
       "\n",
       "    .dataframe tbody tr th {\n",
       "        vertical-align: top;\n",
       "    }\n",
       "\n",
       "    .dataframe thead th {\n",
       "        text-align: right;\n",
       "    }\n",
       "</style>\n",
       "<table border=\"1\" class=\"dataframe\">\n",
       "  <thead>\n",
       "    <tr style=\"text-align: right;\">\n",
       "      <th></th>\n",
       "      <th>DISTRICT_CODE</th>\n",
       "      <th>REF_YEAR</th>\n",
       "      <th>INC_TOT_VALUE</th>\n",
       "      <th>INC_MAL_VALUE</th>\n",
       "      <th>INC_FEM_VALUE</th>\n",
       "      <th>BIR</th>\n",
       "    </tr>\n",
       "  </thead>\n",
       "  <tbody>\n",
       "    <tr>\n",
       "      <th>0</th>\n",
       "      <td>90100</td>\n",
       "      <td>2002</td>\n",
       "      <td>25.463</td>\n",
       "      <td>31.961</td>\n",
       "      <td>18.536</td>\n",
       "      <td>130</td>\n",
       "    </tr>\n",
       "    <tr>\n",
       "      <th>1</th>\n",
       "      <td>90200</td>\n",
       "      <td>2002</td>\n",
       "      <td>16.439</td>\n",
       "      <td>18.301</td>\n",
       "      <td>14.282</td>\n",
       "      <td>981</td>\n",
       "    </tr>\n",
       "    <tr>\n",
       "      <th>2</th>\n",
       "      <td>90300</td>\n",
       "      <td>2002</td>\n",
       "      <td>18.701</td>\n",
       "      <td>21.444</td>\n",
       "      <td>15.804</td>\n",
       "      <td>761</td>\n",
       "    </tr>\n",
       "    <tr>\n",
       "      <th>3</th>\n",
       "      <td>90400</td>\n",
       "      <td>2002</td>\n",
       "      <td>20.325</td>\n",
       "      <td>23.641</td>\n",
       "      <td>16.876</td>\n",
       "      <td>259</td>\n",
       "    </tr>\n",
       "    <tr>\n",
       "      <th>4</th>\n",
       "      <td>90500</td>\n",
       "      <td>2002</td>\n",
       "      <td>16.258</td>\n",
       "      <td>17.937</td>\n",
       "      <td>14.395</td>\n",
       "      <td>557</td>\n",
       "    </tr>\n",
       "    <tr>\n",
       "      <th>...</th>\n",
       "      <td>...</td>\n",
       "      <td>...</td>\n",
       "      <td>...</td>\n",
       "      <td>...</td>\n",
       "      <td>...</td>\n",
       "      <td>...</td>\n",
       "    </tr>\n",
       "    <tr>\n",
       "      <th>455</th>\n",
       "      <td>91900</td>\n",
       "      <td>2021</td>\n",
       "      <td>29.903</td>\n",
       "      <td>34.540</td>\n",
       "      <td>25.235</td>\n",
       "      <td>643</td>\n",
       "    </tr>\n",
       "    <tr>\n",
       "      <th>456</th>\n",
       "      <td>92000</td>\n",
       "      <td>2021</td>\n",
       "      <td>21.201</td>\n",
       "      <td>22.241</td>\n",
       "      <td>19.916</td>\n",
       "      <td>852</td>\n",
       "    </tr>\n",
       "    <tr>\n",
       "      <th>457</th>\n",
       "      <td>92100</td>\n",
       "      <td>2021</td>\n",
       "      <td>24.381</td>\n",
       "      <td>26.587</td>\n",
       "      <td>21.926</td>\n",
       "      <td>1878</td>\n",
       "    </tr>\n",
       "    <tr>\n",
       "      <th>458</th>\n",
       "      <td>92200</td>\n",
       "      <td>2021</td>\n",
       "      <td>26.722</td>\n",
       "      <td>29.850</td>\n",
       "      <td>23.454</td>\n",
       "      <td>1968</td>\n",
       "    </tr>\n",
       "    <tr>\n",
       "      <th>459</th>\n",
       "      <td>92300</td>\n",
       "      <td>2021</td>\n",
       "      <td>27.268</td>\n",
       "      <td>30.581</td>\n",
       "      <td>23.748</td>\n",
       "      <td>1186</td>\n",
       "    </tr>\n",
       "  </tbody>\n",
       "</table>\n",
       "<p>460 rows × 6 columns</p>\n",
       "</div>"
      ],
      "text/plain": [
       "     DISTRICT_CODE  REF_YEAR  INC_TOT_VALUE  INC_MAL_VALUE  INC_FEM_VALUE  \\\n",
       "0            90100      2002         25.463         31.961         18.536   \n",
       "1            90200      2002         16.439         18.301         14.282   \n",
       "2            90300      2002         18.701         21.444         15.804   \n",
       "3            90400      2002         20.325         23.641         16.876   \n",
       "4            90500      2002         16.258         17.937         14.395   \n",
       "..             ...       ...            ...            ...            ...   \n",
       "455          91900      2021         29.903         34.540         25.235   \n",
       "456          92000      2021         21.201         22.241         19.916   \n",
       "457          92100      2021         24.381         26.587         21.926   \n",
       "458          92200      2021         26.722         29.850         23.454   \n",
       "459          92300      2021         27.268         30.581         23.748   \n",
       "\n",
       "      BIR  \n",
       "0     130  \n",
       "1     981  \n",
       "2     761  \n",
       "3     259  \n",
       "4     557  \n",
       "..    ...  \n",
       "455   643  \n",
       "456   852  \n",
       "457  1878  \n",
       "458  1968  \n",
       "459  1186  \n",
       "\n",
       "[460 rows x 6 columns]"
      ]
     },
     "execution_count": 20,
     "metadata": {},
     "output_type": "execute_result"
    }
   ],
   "source": [
    "# Verknüpfung der Datensätze\n",
    "merged_data = pd.merge(data1_clean, data2_grouped, on=['DISTRICT_CODE', 'REF_YEAR'])\n",
    "\n",
    "# Überprüfung der ersten paar Zeilen des verknüpften Datensatzes\n",
    "merged_data"
   ]
  },
  {
   "cell_type": "code",
   "execution_count": 21,
   "metadata": {},
   "outputs": [
    {
     "name": "stdout",
     "output_type": "stream",
     "text": [
      "[90100 90200 90300 90400 90500 90600 90700 90800 90900 91000 91100 91200\n",
      " 91300 91400 91500 91600 91700 91800 91900 92000 92100 92200 92300]\n"
     ]
    }
   ],
   "source": [
    "# category listing \n",
    "\n",
    "print(merged_data['DISTRICT_CODE'].unique())"
   ]
  },
  {
   "cell_type": "code",
   "execution_count": 22,
   "metadata": {},
   "outputs": [
    {
     "data": {
      "text/plain": [
       "DISTRICT_CODE      int64\n",
       "REF_YEAR           int64\n",
       "INC_TOT_VALUE    float64\n",
       "INC_MAL_VALUE    float64\n",
       "INC_FEM_VALUE    float64\n",
       "BIR                int64\n",
       "dtype: object"
      ]
     },
     "execution_count": 22,
     "metadata": {},
     "output_type": "execute_result"
    }
   ],
   "source": [
    "merged_data.dtypes"
   ]
  },
  {
   "cell_type": "code",
   "execution_count": 23,
   "metadata": {},
   "outputs": [
    {
     "data": {
      "text/plain": [
       "DISTRICT_CODE    0\n",
       "REF_YEAR         0\n",
       "INC_TOT_VALUE    0\n",
       "INC_MAL_VALUE    0\n",
       "INC_FEM_VALUE    0\n",
       "BIR              0\n",
       "dtype: int64"
      ]
     },
     "execution_count": 23,
     "metadata": {},
     "output_type": "execute_result"
    }
   ],
   "source": [
    "# Checking for special characters or unusual formatting in the first few rows\n",
    "special_characters_check = merged_data.map(lambda x: not str(x).isascii()).sum()\n",
    "special_characters_check"
   ]
  },
  {
   "cell_type": "code",
   "execution_count": 24,
   "metadata": {},
   "outputs": [
    {
     "data": {
      "text/plain": [
       "DISTRICT_CODE    0\n",
       "REF_YEAR         0\n",
       "INC_TOT_VALUE    0\n",
       "INC_MAL_VALUE    0\n",
       "INC_FEM_VALUE    0\n",
       "BIR              0\n",
       "dtype: int64"
      ]
     },
     "execution_count": 24,
     "metadata": {},
     "output_type": "execute_result"
    }
   ],
   "source": [
    "# Calculate the number of missing values in each column of the DataFrame and the percentage rate of these missing values\n",
    "\n",
    "missing_values = merged_data.isnull().sum()\n",
    "missing_values_percentage = (merged_data.isnull().mean() * 100)\n",
    "missing_values"
   ]
  },
  {
   "cell_type": "code",
   "execution_count": 25,
   "metadata": {},
   "outputs": [
    {
     "data": {
      "text/html": [
       "<div>\n",
       "<style scoped>\n",
       "    .dataframe tbody tr th:only-of-type {\n",
       "        vertical-align: middle;\n",
       "    }\n",
       "\n",
       "    .dataframe tbody tr th {\n",
       "        vertical-align: top;\n",
       "    }\n",
       "\n",
       "    .dataframe thead th {\n",
       "        text-align: right;\n",
       "    }\n",
       "</style>\n",
       "<table border=\"1\" class=\"dataframe\">\n",
       "  <thead>\n",
       "    <tr style=\"text-align: right;\">\n",
       "      <th></th>\n",
       "      <th>DISTRICT_CODE</th>\n",
       "      <th>REF_YEAR</th>\n",
       "      <th>INC_TOT_VALUE</th>\n",
       "      <th>INC_MAL_VALUE</th>\n",
       "      <th>INC_FEM_VALUE</th>\n",
       "      <th>BIR</th>\n",
       "    </tr>\n",
       "  </thead>\n",
       "  <tbody>\n",
       "    <tr>\n",
       "      <th>count</th>\n",
       "      <td>460.000000</td>\n",
       "      <td>460.000000</td>\n",
       "      <td>460.000000</td>\n",
       "      <td>460.000000</td>\n",
       "      <td>460.000000</td>\n",
       "      <td>460.000000</td>\n",
       "    </tr>\n",
       "    <tr>\n",
       "      <th>mean</th>\n",
       "      <td>91200.000000</td>\n",
       "      <td>2011.500000</td>\n",
       "      <td>21.955726</td>\n",
       "      <td>24.934389</td>\n",
       "      <td>18.870437</td>\n",
       "      <td>798.282609</td>\n",
       "    </tr>\n",
       "    <tr>\n",
       "      <th>std</th>\n",
       "      <td>664.047141</td>\n",
       "      <td>5.772559</td>\n",
       "      <td>3.994645</td>\n",
       "      <td>5.405394</td>\n",
       "      <td>2.901956</td>\n",
       "      <td>493.077772</td>\n",
       "    </tr>\n",
       "    <tr>\n",
       "      <th>min</th>\n",
       "      <td>90100.000000</td>\n",
       "      <td>2002.000000</td>\n",
       "      <td>14.998000</td>\n",
       "      <td>16.252000</td>\n",
       "      <td>13.415000</td>\n",
       "      <td>105.000000</td>\n",
       "    </tr>\n",
       "    <tr>\n",
       "      <th>25%</th>\n",
       "      <td>90600.000000</td>\n",
       "      <td>2006.750000</td>\n",
       "      <td>18.876000</td>\n",
       "      <td>20.677500</td>\n",
       "      <td>16.723750</td>\n",
       "      <td>409.250000</td>\n",
       "    </tr>\n",
       "    <tr>\n",
       "      <th>50%</th>\n",
       "      <td>91200.000000</td>\n",
       "      <td>2011.500000</td>\n",
       "      <td>21.618000</td>\n",
       "      <td>24.476500</td>\n",
       "      <td>18.633500</td>\n",
       "      <td>770.000000</td>\n",
       "    </tr>\n",
       "    <tr>\n",
       "      <th>75%</th>\n",
       "      <td>91800.000000</td>\n",
       "      <td>2016.250000</td>\n",
       "      <td>24.165750</td>\n",
       "      <td>27.708750</td>\n",
       "      <td>20.586250</td>\n",
       "      <td>1036.250000</td>\n",
       "    </tr>\n",
       "    <tr>\n",
       "      <th>max</th>\n",
       "      <td>92300.000000</td>\n",
       "      <td>2021.000000</td>\n",
       "      <td>37.250000</td>\n",
       "      <td>44.494000</td>\n",
       "      <td>29.954000</td>\n",
       "      <td>2552.000000</td>\n",
       "    </tr>\n",
       "  </tbody>\n",
       "</table>\n",
       "</div>"
      ],
      "text/plain": [
       "       DISTRICT_CODE     REF_YEAR  INC_TOT_VALUE  INC_MAL_VALUE  \\\n",
       "count     460.000000   460.000000     460.000000     460.000000   \n",
       "mean    91200.000000  2011.500000      21.955726      24.934389   \n",
       "std       664.047141     5.772559       3.994645       5.405394   \n",
       "min     90100.000000  2002.000000      14.998000      16.252000   \n",
       "25%     90600.000000  2006.750000      18.876000      20.677500   \n",
       "50%     91200.000000  2011.500000      21.618000      24.476500   \n",
       "75%     91800.000000  2016.250000      24.165750      27.708750   \n",
       "max     92300.000000  2021.000000      37.250000      44.494000   \n",
       "\n",
       "       INC_FEM_VALUE          BIR  \n",
       "count     460.000000   460.000000  \n",
       "mean       18.870437   798.282609  \n",
       "std         2.901956   493.077772  \n",
       "min        13.415000   105.000000  \n",
       "25%        16.723750   409.250000  \n",
       "50%        18.633500   770.000000  \n",
       "75%        20.586250  1036.250000  \n",
       "max        29.954000  2552.000000  "
      ]
     },
     "execution_count": 25,
     "metadata": {},
     "output_type": "execute_result"
    }
   ],
   "source": [
    "# Summary statistics\n",
    "\n",
    "summary_stats = merged_data.describe()\n",
    "summary_stats"
   ]
  },
  {
   "cell_type": "code",
   "execution_count": 26,
   "metadata": {},
   "outputs": [
    {
     "data": {
      "text/html": [
       "<div>\n",
       "<style scoped>\n",
       "    .dataframe tbody tr th:only-of-type {\n",
       "        vertical-align: middle;\n",
       "    }\n",
       "\n",
       "    .dataframe tbody tr th {\n",
       "        vertical-align: top;\n",
       "    }\n",
       "\n",
       "    .dataframe thead th {\n",
       "        text-align: right;\n",
       "    }\n",
       "</style>\n",
       "<table border=\"1\" class=\"dataframe\">\n",
       "  <thead>\n",
       "    <tr style=\"text-align: right;\">\n",
       "      <th></th>\n",
       "      <th>DISTRICT_CODE</th>\n",
       "      <th>REF_YEAR</th>\n",
       "      <th>INC_TOT_VALUE</th>\n",
       "      <th>INC_MAL_VALUE</th>\n",
       "      <th>INC_FEM_VALUE</th>\n",
       "      <th>BIR</th>\n",
       "    </tr>\n",
       "  </thead>\n",
       "  <tbody>\n",
       "    <tr>\n",
       "      <th>DISTRICT_CODE</th>\n",
       "      <td>1.000000e+00</td>\n",
       "      <td>1.794010e-14</td>\n",
       "      <td>-0.173628</td>\n",
       "      <td>-0.165492</td>\n",
       "      <td>-0.172074</td>\n",
       "      <td>0.393730</td>\n",
       "    </tr>\n",
       "    <tr>\n",
       "      <th>REF_YEAR</th>\n",
       "      <td>1.794010e-14</td>\n",
       "      <td>1.000000e+00</td>\n",
       "      <td>0.491525</td>\n",
       "      <td>0.344684</td>\n",
       "      <td>0.721235</td>\n",
       "      <td>0.112570</td>\n",
       "    </tr>\n",
       "    <tr>\n",
       "      <th>INC_TOT_VALUE</th>\n",
       "      <td>-1.736282e-01</td>\n",
       "      <td>4.915250e-01</td>\n",
       "      <td>1.000000</td>\n",
       "      <td>0.984228</td>\n",
       "      <td>0.944541</td>\n",
       "      <td>-0.412314</td>\n",
       "    </tr>\n",
       "    <tr>\n",
       "      <th>INC_MAL_VALUE</th>\n",
       "      <td>-1.654924e-01</td>\n",
       "      <td>3.446839e-01</td>\n",
       "      <td>0.984228</td>\n",
       "      <td>1.000000</td>\n",
       "      <td>0.872229</td>\n",
       "      <td>-0.453349</td>\n",
       "    </tr>\n",
       "    <tr>\n",
       "      <th>INC_FEM_VALUE</th>\n",
       "      <td>-1.720736e-01</td>\n",
       "      <td>7.212347e-01</td>\n",
       "      <td>0.944541</td>\n",
       "      <td>0.872229</td>\n",
       "      <td>1.000000</td>\n",
       "      <td>-0.318180</td>\n",
       "    </tr>\n",
       "    <tr>\n",
       "      <th>BIR</th>\n",
       "      <td>3.937302e-01</td>\n",
       "      <td>1.125697e-01</td>\n",
       "      <td>-0.412314</td>\n",
       "      <td>-0.453349</td>\n",
       "      <td>-0.318180</td>\n",
       "      <td>1.000000</td>\n",
       "    </tr>\n",
       "  </tbody>\n",
       "</table>\n",
       "</div>"
      ],
      "text/plain": [
       "               DISTRICT_CODE      REF_YEAR  INC_TOT_VALUE  INC_MAL_VALUE  \\\n",
       "DISTRICT_CODE   1.000000e+00  1.794010e-14      -0.173628      -0.165492   \n",
       "REF_YEAR        1.794010e-14  1.000000e+00       0.491525       0.344684   \n",
       "INC_TOT_VALUE  -1.736282e-01  4.915250e-01       1.000000       0.984228   \n",
       "INC_MAL_VALUE  -1.654924e-01  3.446839e-01       0.984228       1.000000   \n",
       "INC_FEM_VALUE  -1.720736e-01  7.212347e-01       0.944541       0.872229   \n",
       "BIR             3.937302e-01  1.125697e-01      -0.412314      -0.453349   \n",
       "\n",
       "               INC_FEM_VALUE       BIR  \n",
       "DISTRICT_CODE      -0.172074  0.393730  \n",
       "REF_YEAR            0.721235  0.112570  \n",
       "INC_TOT_VALUE       0.944541 -0.412314  \n",
       "INC_MAL_VALUE       0.872229 -0.453349  \n",
       "INC_FEM_VALUE       1.000000 -0.318180  \n",
       "BIR                -0.318180  1.000000  "
      ]
     },
     "execution_count": 26,
     "metadata": {},
     "output_type": "execute_result"
    }
   ],
   "source": [
    "# Correlations between numerical fields\n",
    "\n",
    "correlations = merged_data.corr(numeric_only=True)\n",
    "correlations"
   ]
  },
  {
   "cell_type": "code",
   "execution_count": 27,
   "metadata": {},
   "outputs": [
    {
     "data": {
      "image/png": "[encoded data removed]",
      "text/plain": [
       "<Figure size 1000x800 with 2 Axes>"
      ]
     },
     "metadata": {},
     "output_type": "display_data"
    }
   ],
   "source": [
    "import matplotlib.pyplot as plt\n",
    "import seaborn as sns\n",
    "\n",
    "# Auswahl relevanter Spalten für die Korrelationsmatrix\n",
    "columns_for_correlation = ['INC_TOT_VALUE', 'INC_MAL_VALUE', 'INC_FEM_VALUE', 'BIR']\n",
    "correlation_data = merged_data[columns_for_correlation]\n",
    "\n",
    "# Berechnung der Korrelationsmatrix\n",
    "correlation_matrix = correlation_data.corr()\n",
    "\n",
    "# Visualisierung der Korrelationsmatrix\n",
    "plt.figure(figsize=(10, 8))\n",
    "sns.heatmap(correlation_matrix, annot=True, cmap='coolwarm', fmt=\".2f\")\n",
    "plt.title('Korrelationsmatrix für ausgewählte Spalten')\n",
    "plt.show()\n"
   ]
  },
  {
   "cell_type": "markdown",
   "metadata": {},
   "source": [
    "#### Analyse\n",
    "* Die Korrelationsmatrix, die wir erstellt haben, zeigt die Pearson-Korrelationskoeffizienten zwischen den Spalten **INC_TOT_VALUE** (durchschnittliches Gesamteinkommen), **INC_MAL_VALUE** (durchschnittliches Einkommen der Männer), **INC_FEM_VALUE** (durchschnittliches Einkommen der Frauen) und **BIR** (Anzahl der Geburten). Der Pearson-Korrelationskoeffizient ist ein Maß dafür, wie stark zwei Variablen miteinander in Beziehung stehen, und er reicht von -1 bis 1. Ein Wert nahe 1 zeigt eine starke positive Korrelation, ein Wert nahe -1 zeigt eine starke negative Korrelation, und ein Wert um 0 bedeutet, dass keine signifikante Korrelation besteht.\n",
    "\n",
    "* Die spezifischen Werte der Matrix können interpretiert werden, um zu verstehen, wie die verschiedenen Einkommensarten und die Geburtenrate miteinander zusammenhängen. Beispielsweise könnte ein hoher positiver Korrelationswert zwischen dem durchschnittlichen Einkommen der Männer und der Anzahl der Geburten darauf hinweisen, dass in Bezirken mit höherem durchschnittlichem Männergehalt tendenziell mehr Geburten registriert werden.\n"
   ]
  },
  {
   "cell_type": "code",
   "execution_count": 29,
   "metadata": {},
   "outputs": [],
   "source": [
    "# Save the DataFrame as a CSV file named 'clean_data.csv'.\n",
    "\n",
    "clean_vie_data = 'clean_vie_data.csv'\n",
    "merged_data.to_csv(clean_vie_data)"
   ]
  }
 ],
 "metadata": {
  "kernelspec": {
   "display_name": "Python 3",
   "language": "python",
   "name": "python3"
  },
  "language_info": {
   "codemirror_mode": {
    "name": "ipython",
    "version": 3
   },
   "file_extension": ".py",
   "mimetype": "text/x-python",
   "name": "python",
   "nbconvert_exporter": "python",
   "pygments_lexer": "ipython3",
   "version": "3.10.13"
  }
 },
 "nbformat": 4,
 "nbformat_minor": 2
}
